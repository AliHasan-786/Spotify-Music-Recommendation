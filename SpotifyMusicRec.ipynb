{
  "nbformat": 4,
  "nbformat_minor": 0,
  "metadata": {
    "colab": {
      "provenance": [],
      "authorship_tag": "ABX9TyPaYzAW7OePXO2Iqy7FNVQ1",
      "include_colab_link": true
    },
    "kernelspec": {
      "name": "python3",
      "display_name": "Python 3"
    },
    "language_info": {
      "name": "python"
    }
  },
  "cells": [
    {
      "cell_type": "markdown",
      "metadata": {
        "id": "view-in-github",
        "colab_type": "text"
      },
      "source": [
        "<a href=\"https://colab.research.google.com/github/AliHasan-786/Spotify-Music-Recommendation/blob/main/SpotifyMusicRec.ipynb\" target=\"_parent\"><img src=\"https://colab.research.google.com/assets/colab-badge.svg\" alt=\"Open In Colab\"/></a>"
      ]
    },
    {
      "cell_type": "markdown",
      "source": [
        "In order to work on this project you must first:\n",
        "- Create a Spotify account\n",
        "- Go to your developer dashboard\n",
        "- Create a new app"
      ],
      "metadata": {
        "id": "-IFOpa_fU5KU"
      }
    },
    {
      "cell_type": "markdown",
      "source": [
        "To initiate the construction of a Music Recommendation System, it is essential to first obtain an access token. This access token acts as a temporary authorization credential, enabling the code to perform authenticated requests to the Spotify API on behalf of the application. The following describes the process to acquire this token:"
      ],
      "metadata": {
        "id": "sPMCC6FQRM9N"
      }
    },
    {
      "cell_type": "code",
      "execution_count": 2,
      "metadata": {
        "id": "XJh_AOKM-zbS",
        "colab": {
          "base_uri": "https://localhost:8080/"
        },
        "outputId": "a9cecb2e-6574-45f6-e2b9-1440888cf908"
      },
      "outputs": [
        {
          "output_type": "stream",
          "name": "stdout",
          "text": [
            "Access token obtained successfully.\n"
          ]
        }
      ],
      "source": [
        "import requests\n",
        "import base64\n",
        "\n",
        "CLIENT_ID = 'YOUR_CLIENT_ID'\n",
        "CLIENT_SECRET = 'YOUR_CLIENT_SECRET'\n",
        "\n",
        "# Base64 encode the client ID and client secret\n",
        "client_credentials = f\"{CLIENT_ID}:{CLIENT_SECRET}\"\n",
        "client_credentials_base64 = base64.b64encode(client_credentials.encode())\n",
        "\n",
        "# Request the access token\n",
        "token_url = 'https://accounts.spotify.com/api/token'\n",
        "headers = {\n",
        "    'Authorization': f'Basic {client_credentials_base64.decode()}'\n",
        "}\n",
        "data = {\n",
        "    'grant_type': 'client_credentials'\n",
        "}\n",
        "response = requests.post(token_url, data=data, headers=headers)\n",
        "\n",
        "if response.status_code == 200:\n",
        "    access_token = response.json()['access_token']\n",
        "    print(\"Access token obtained successfully.\")\n",
        "else:\n",
        "    print(\"Error obtaining access token.\")\n",
        "    exit()\n",
        "\n"
      ]
    },
    {
      "cell_type": "code",
      "source": [
        "import pandas as pd\n",
        "!pip install spotipy\n",
        "import spotipy\n",
        "from spotipy.oauth2 import SpotifyOAuth\n",
        "\n",
        "def get_trending_playlist_data(playlist_id, access_token):\n",
        "    # Set up Spotipy with the access token\n",
        "    sp = spotipy.Spotify(auth=access_token)\n",
        "\n",
        "    # Get the tracks from the playlist\n",
        "    playlist_tracks = sp.playlist_tracks(playlist_id, fields='items(track(id, name, artists, album(id, name)))')\n",
        "\n",
        "    # Extract relevant information and store in a list of dictionaries\n",
        "    music_data = []\n",
        "    for track_info in playlist_tracks['items']:\n",
        "        track = track_info['track']\n",
        "        track_name = track['name']\n",
        "        artists = ', '.join([artist['name'] for artist in track['artists']])\n",
        "        album_name = track['album']['name']  # Use 'name' instead of 'id'\n",
        "        album_id = track['album']['id']      # Get the album ID\n",
        "        track_id = track['id']\n",
        "\n",
        "        # Get audio features for the track\n",
        "        audio_features = sp.audio_features(track_id)[0] if track_id != 'Not available' else None\n",
        "\n",
        "        #Get additional audio features (Key, Mode, Speechiness) from the track\n",
        "        try:\n",
        "            audio_analysis = sp.audio_analysis(track_id) if track_id != 'Not available' else None\n",
        "            key = audio_analysis['track']['key'] if audio_analysis else None\n",
        "            mode = audio_analysis['track']['mode'] if audio_analysis else None\n",
        "            speechiness = audio_analysis['track']['speechiness'] if audio_analysis else None\n",
        "        except KeyError:\n",
        "            key = None\n",
        "            mode = None\n",
        "            speechiness = None\n",
        "\n",
        "\n",
        "        # Get release date of the album\n",
        "        try:\n",
        "            album_info = sp.album(album_id) if album_id != 'Not available' else None\n",
        "            release_date = album_info['release_date'] if album_info else None\n",
        "        except:\n",
        "            release_date = None\n",
        "\n",
        "        # Get popularity of the track\n",
        "        try:\n",
        "            track_info = sp.track(track_id) if track_id != 'Not available' else None\n",
        "            popularity = track_info['popularity'] if track_info else None\n",
        "        except:\n",
        "            popularity = None\n",
        "\n",
        "        # Add additional track information to the track data\n",
        "        track_data = {\n",
        "            'Track Name': track_name,\n",
        "            'Artists': artists,\n",
        "            'Album Name': album_name,\n",
        "            'Album ID': album_id,\n",
        "            'Track ID': track_id,\n",
        "            'Popularity': popularity,\n",
        "            'Release Date': release_date,\n",
        "            'Duration (ms)': audio_features['duration_ms'] if audio_features else None,\n",
        "            'Explicit': track_info.get('explicit', None),\n",
        "            'External URLs': track_info.get('external_urls', {}).get('spotify', None),\n",
        "            'Danceability': audio_features['danceability'] if audio_features else None,\n",
        "            'Energy': audio_features['energy'] if audio_features else None,\n",
        "            'Loudness': audio_features['loudness'] if audio_features else None,\n",
        "            'Acousticness': audio_features['acousticness'] if audio_features else None,\n",
        "            'Instrumentalness': audio_features['instrumentalness'] if audio_features else None,\n",
        "            'Liveness': audio_features['liveness'] if audio_features else None,\n",
        "            'Valence': audio_features['valence'] if audio_features else None,\n",
        "            'Tempo': audio_features['tempo'] if audio_features else None,\n",
        "            'Key': audio_features['key'] if audio_features else None,\n",
        "            'Mode': audio_features['mode'] if audio_features else None,\n",
        "            'Speechiness': audio_features['speechiness'] if audio_features else None,\n",
        "\n",
        "\n",
        "        }\n",
        "\n",
        "        music_data.append(track_data)\n",
        "\n",
        "    # Create a pandas DataFrame from the list of dictionaries\n",
        "    df = pd.DataFrame(music_data)\n",
        "\n",
        "    return df\n"
      ],
      "metadata": {
        "colab": {
          "base_uri": "https://localhost:8080/"
        },
        "id": "O3sxewBwTuTl",
        "outputId": "9c6f1d45-2892-4af4-86c7-c4174cef5e91"
      },
      "execution_count": 3,
      "outputs": [
        {
          "output_type": "stream",
          "name": "stdout",
          "text": [
            "Collecting spotipy\n",
            "  Downloading spotipy-2.23.0-py3-none-any.whl (29 kB)\n",
            "Collecting redis>=3.5.3 (from spotipy)\n",
            "  Downloading redis-5.0.1-py3-none-any.whl (250 kB)\n",
            "\u001b[2K     \u001b[90m━━━━━━━━━━━━━━━━━━━━━━━━━━━━━━━━━━━━━━━━\u001b[0m \u001b[32m250.3/250.3 kB\u001b[0m \u001b[31m5.3 MB/s\u001b[0m eta \u001b[36m0:00:00\u001b[0m\n",
            "\u001b[?25hRequirement already satisfied: requests>=2.25.0 in /usr/local/lib/python3.10/dist-packages (from spotipy) (2.31.0)\n",
            "Requirement already satisfied: six>=1.15.0 in /usr/local/lib/python3.10/dist-packages (from spotipy) (1.16.0)\n",
            "Requirement already satisfied: urllib3>=1.26.0 in /usr/local/lib/python3.10/dist-packages (from spotipy) (2.0.7)\n",
            "Requirement already satisfied: async-timeout>=4.0.2 in /usr/local/lib/python3.10/dist-packages (from redis>=3.5.3->spotipy) (4.0.3)\n",
            "Requirement already satisfied: charset-normalizer<4,>=2 in /usr/local/lib/python3.10/dist-packages (from requests>=2.25.0->spotipy) (3.3.2)\n",
            "Requirement already satisfied: idna<4,>=2.5 in /usr/local/lib/python3.10/dist-packages (from requests>=2.25.0->spotipy) (3.6)\n",
            "Requirement already satisfied: certifi>=2017.4.17 in /usr/local/lib/python3.10/dist-packages (from requests>=2.25.0->spotipy) (2023.11.17)\n",
            "Installing collected packages: redis, spotipy\n",
            "Successfully installed redis-5.0.1 spotipy-2.23.0\n"
          ]
        }
      ]
    },
    {
      "cell_type": "code",
      "source": [
        "playlist_id = '22JbIbnMXs7L8PaF2575av'\n",
        "\n",
        "#Call the function to get the music data from the playlist and store it in a DataFrame\n",
        "music_df = get_trending_playlist_data(playlist_id, access_token)\n",
        "\n",
        "#Display the DataFrame\n",
        "print(music_df)\n"
      ],
      "metadata": {
        "colab": {
          "base_uri": "https://localhost:8080/"
        },
        "id": "5kDvry_Y6Y3B",
        "outputId": "4981de25-a8c3-440e-a2f6-27520c0e5729"
      },
      "execution_count": 4,
      "outputs": [
        {
          "output_type": "stream",
          "name": "stdout",
          "text": [
            "                                     Track Name  \\\n",
            "0                                      Location   \n",
            "1                                    STARGAZING   \n",
            "2                    rockstar (feat. 21 Savage)   \n",
            "3                                       Nonstop   \n",
            "4                                     Freestyle   \n",
            "..                                          ...   \n",
            "95                    SKITZO (feat. Young Thug)   \n",
            "96                       MELTDOWN (feat. Drake)   \n",
            "97                Jimmy Cooks (feat. 21 Savage)   \n",
            "98  Knife Talk (with 21 Savage ft. Project Pat)   \n",
            "99                            Ambition For Cash   \n",
            "\n",
            "                          Artists            Album Name  \\\n",
            "0                   Playboi Carti         Playboi Carti   \n",
            "1                    Travis Scott            ASTROWORLD   \n",
            "2          Post Malone, 21 Savage  beerbongs & bentleys   \n",
            "3                           Drake              Scorpion   \n",
            "4                        Lil Baby              Too Hard   \n",
            "..                            ...                   ...   \n",
            "95       Travis Scott, Young Thug                UTOPIA   \n",
            "96            Travis Scott, Drake                UTOPIA   \n",
            "97               Drake, 21 Savage   Honestly, Nevermind   \n",
            "98  Drake, 21 Savage, Project Pat   Certified Lover Boy   \n",
            "99                      Key Glock         Yellow Tape 2   \n",
            "\n",
            "                  Album ID                Track ID  Popularity Release Date  \\\n",
            "0   4rJgzzfFHAVFhCSt2P4I3j  3yk7PJnryiJ8mAPqsrujzf          81   2017-04-14   \n",
            "1   41GuZcammIkupMPKH2OJ6I  7wBJfHzpfI3032CSD7CE2m          78   2018-08-03   \n",
            "2   6trNtQUgC8cgbWcqoMYkOR  0e7ipj03S05BNilyu5bRzt          85   2018-04-27   \n",
            "3   1ATL5GLyefJaxhQzSPVrLX  0TlLq3lA83rQOYtrqBqSct          81   2018-06-29   \n",
            "4   750APP0eKVlcgOxaZnBnVt  5BbdKBZO0TH0GhfxUfyhL9          85   2017-12-01   \n",
            "..                     ...                     ...         ...          ...   \n",
            "95  18NOKLkZETa4sWwLMIm0UZ  0bkV1iQHSxBaksUqgEkcbc          77   2023-07-28   \n",
            "96  18NOKLkZETa4sWwLMIm0UZ  67nepsnrcZkowTxMWigSbb          87   2023-07-28   \n",
            "97  3cf4iSSKd8ffTncbtKljXw  3F5CgOj3wFlRv51JsHbxhe          89   2022-06-17   \n",
            "98  3SpBlxme9WbeQdI9kx7KAV  2BcMwX1MPV6ZHP4tUT9uq6          82   2021-09-03   \n",
            "99  7snqOEQEtKqxJw3NTGml6i  4mIHgQ3ofK2RK34UdbqMbe          78   2021-11-05   \n",
            "\n",
            "    Duration (ms)  Explicit  \\\n",
            "0          168784      True   \n",
            "1          270715      True   \n",
            "2          218147      True   \n",
            "3          238614      True   \n",
            "4          162053      True   \n",
            "..            ...       ...   \n",
            "95         366593      True   \n",
            "96         246134      True   \n",
            "97         218365      True   \n",
            "98         242966      True   \n",
            "99         143480      True   \n",
            "\n",
            "                                        External URLs  ...  Energy  Loudness  \\\n",
            "0   https://open.spotify.com/track/3yk7PJnryiJ8mAP...  ...   0.790    -4.213   \n",
            "1   https://open.spotify.com/track/7wBJfHzpfI3032C...  ...   0.789    -3.690   \n",
            "2   https://open.spotify.com/track/0e7ipj03S05BNil...  ...   0.520    -6.136   \n",
            "3   https://open.spotify.com/track/0TlLq3lA83rQOYt...  ...   0.412    -8.074   \n",
            "4   https://open.spotify.com/track/5BbdKBZO0TH0Ghf...  ...   0.517    -5.426   \n",
            "..                                                ...  ...     ...       ...   \n",
            "95  https://open.spotify.com/track/0bkV1iQHSxBaksU...  ...   0.551    -7.219   \n",
            "96  https://open.spotify.com/track/67nepsnrcZkowTx...  ...   0.774    -5.275   \n",
            "97  https://open.spotify.com/track/3F5CgOj3wFlRv51...  ...   0.673    -4.711   \n",
            "98  https://open.spotify.com/track/2BcMwX1MPV6ZHP4...  ...   0.424    -9.579   \n",
            "99  https://open.spotify.com/track/4mIHgQ3ofK2RK34...  ...   0.732    -5.186   \n",
            "\n",
            "    Acousticness  Instrumentalness  Liveness  Valence    Tempo  Key  Mode  \\\n",
            "0       0.330000          0.000125    0.5180   0.3710  125.985   11     1   \n",
            "1       0.009470          0.000004    0.1890   0.0564  150.007    8     1   \n",
            "2       0.124000          0.000070    0.1310   0.1290  159.801    5     0   \n",
            "3       0.016500          0.012600    0.1040   0.4230  154.983    7     1   \n",
            "4       0.217000          0.000000    0.1430   0.2550  119.996    2     0   \n",
            "..           ...               ...       ...      ...      ...  ...   ...   \n",
            "95      0.103000          0.000000    0.3450   0.3470   83.250    5     0   \n",
            "96      0.012000          0.000000    0.3960   0.3970  111.975    7     0   \n",
            "97      0.000307          0.000002    0.0930   0.3660  165.921    0     1   \n",
            "98      0.063500          0.000000    0.0834   0.1530  145.887    5     0   \n",
            "99      0.011500          0.000022    0.1360   0.5760  149.012    7     0   \n",
            "\n",
            "    Speechiness  \n",
            "0        0.2000  \n",
            "1        0.0440  \n",
            "2        0.0712  \n",
            "3        0.1230  \n",
            "4        0.0706  \n",
            "..          ...  \n",
            "95       0.2500  \n",
            "96       0.3510  \n",
            "97       0.1750  \n",
            "98       0.3240  \n",
            "99       0.1900  \n",
            "\n",
            "[100 rows x 21 columns]\n"
          ]
        }
      ]
    },
    {
      "cell_type": "markdown",
      "source": [
        "Replace the playlist_id with your own playlist's id\n",
        "\n",
        "\n"
      ],
      "metadata": {
        "id": "6Auc75_a6gif"
      }
    },
    {
      "cell_type": "code",
      "source": [
        "#Check if data has null values or not\n",
        "print(music_df.isnull().sum())"
      ],
      "metadata": {
        "colab": {
          "base_uri": "https://localhost:8080/"
        },
        "id": "zFF63uGr7UeJ",
        "outputId": "6159ccdf-b4c6-4a90-fcfa-21149c80c379"
      },
      "execution_count": 5,
      "outputs": [
        {
          "output_type": "stream",
          "name": "stdout",
          "text": [
            "Track Name          0\n",
            "Artists             0\n",
            "Album Name          0\n",
            "Album ID            0\n",
            "Track ID            0\n",
            "Popularity          0\n",
            "Release Date        0\n",
            "Duration (ms)       0\n",
            "Explicit            0\n",
            "External URLs       0\n",
            "Danceability        0\n",
            "Energy              0\n",
            "Loudness            0\n",
            "Acousticness        0\n",
            "Instrumentalness    0\n",
            "Liveness            0\n",
            "Valence             0\n",
            "Tempo               0\n",
            "Key                 0\n",
            "Mode                0\n",
            "Speechiness         0\n",
            "dtype: int64\n"
          ]
        }
      ]
    },
    {
      "cell_type": "code",
      "source": [
        "import pandas as pd\n",
        "import numpy as np\n",
        "from sklearn.model_selection import train_test_split\n",
        "from sklearn.preprocessing import MinMaxScaler\n",
        "from datetime import datetime\n",
        "from sklearn.metrics.pairwise import cosine_similarity\n",
        "\n",
        "data = music_df"
      ],
      "metadata": {
        "id": "NLCXsZ7N7bm3"
      },
      "execution_count": 6,
      "outputs": []
    },
    {
      "cell_type": "code",
      "source": [
        "#Increase the weight for new releases in recommendations\n",
        "\n",
        "# Function to calculate weighted popularity scores based on release date\n",
        "def calculate_weighted_popularity(release_date):\n",
        "    # Convert the release date to datetime object\n",
        "    release_date = datetime.strptime(release_date, '%Y-%m-%d')\n",
        "\n",
        "    # Calculate the time span between release date and today's date\n",
        "    time_span = datetime.now() - release_date\n",
        "\n",
        "    # Calculate the weighted popularity score based on time span (e.g., more recent releases have higher weight)\n",
        "    weight = 1 / (time_span.days + 1)\n",
        "    return weight"
      ],
      "metadata": {
        "id": "CbKj0gPx7x5q"
      },
      "execution_count": 7,
      "outputs": []
    },
    {
      "cell_type": "code",
      "source": [
        "# Normalize the music features using Min-Max scaling\n",
        "scaler = MinMaxScaler()\n",
        "music_features = music_df[['Danceability', 'Energy', 'Key',\n",
        "                           'Loudness', 'Mode', 'Speechiness', 'Acousticness',\n",
        "                           'Instrumentalness', 'Liveness', 'Valence', 'Tempo']].values\n",
        "music_features_scaled = scaler.fit_transform(music_features)"
      ],
      "metadata": {
        "id": "oS5dgd-X8wXJ"
      },
      "execution_count": 8,
      "outputs": []
    },
    {
      "cell_type": "markdown",
      "source": [
        "Create a hybrid recommendation system for music recommendations. The first approach will be based on recommending music based on music audio features, and the second approach will be based on recommending music based on weighted popularity.\n",
        "\n"
      ],
      "metadata": {
        "id": "hMsiDY02HjwW"
      }
    },
    {
      "cell_type": "code",
      "source": [
        "#Generate music recommendations based on music audio features\n",
        "\n",
        "#A function to get content-based recommendations based on music features\n",
        "def content_based_recommendations(input_song_name, num_recommendations = 5):\n",
        "  if input_song_name not in music_df['Track Name'].values:\n",
        "    print(f\"'{input_song_name}' not found in the dataset. Please enter a valid song name.\")\n",
        "    return\n",
        "\n",
        "  # Get the index of the input song in the music DataFrame\n",
        "  input_song_index = music_df[music_df['Track Name'] == input_song_name].index[0]\n",
        "\n",
        "  #Calculate the similarity scores based on music features (cosine similarity)\n",
        "  similarity_scores = cosine_similarity([music_features_scaled[input_song_index]], music_features_scaled)\n",
        "\n",
        "  #Get the indices of the most similar songs\n",
        "  similar_song_indices = similarity_scores.argsort()[0][::-1][1:num_recommendations + 1]\n",
        "\n",
        "  #Get the names of the most similar songs based on content-based filtering\n",
        "  content_based_recommendations = music_df.iloc[similar_song_indices][['Track Name', 'Artists', 'Album Name', 'Release Date', 'Popularity']]\n",
        "\n",
        "  return content_based_recommendations"
      ],
      "metadata": {
        "id": "HOjrmfyjHmxL"
      },
      "execution_count": 9,
      "outputs": []
    },
    {
      "cell_type": "code",
      "source": [
        "# a function to get hybrid recommendations based on weighted popularity\n",
        "def hybrid_recommendations(input_song_name, num_recommendations = 5, alpha=0.5):\n",
        "  if input_song_name not in music_df['Track Name'].values:\n",
        "    print(f\"'{input_song_name}' not found in the dataset. Please enter a valid song name.\")\n",
        "    return\n",
        "\n",
        "  # Get content-based recommendations\n",
        "  content_based_rec = content_based_recommendations(input_song_name, num_recommendations)\n",
        "\n",
        "  #Get the popularity score of the input song\n",
        "  popularity_score = music_df.loc[music_df['Track Name'] == input_song_name, 'Popularity'].values[0]\n",
        "\n",
        "  #Calculate the weighted popularity score\n",
        "  weighted_popularity_score = popularity_score * calculate_weighted_popularity(music_df.loc[music_df['Track Name'] == input_song_name, 'Release Date'].values[0])\n",
        "\n",
        "\n",
        "  #Combine content-based and popularity-based recommendations based on weighted popularity\n",
        "  hybrid_recommendations = content_based_rec\n",
        "  hybrid_recommendations = hybrid_recommendations.append({\n",
        "      'Track Name': input_song_name,\n",
        "      'Artists': music_df.loc[music_df['Track Name'] == input_song_name, 'Artists'].values[0],\n",
        "      'Album Name': music_df.loc[music_df['Track Name'] == input_song_name, 'Album Name'].values[0],\n",
        "      'Release Date': music_df.loc[music_df['Track Name'] == input_song_name, 'Release Date'].values[0],\n",
        "      'Popularity': weighted_popularity_score\n",
        "  }, ignore_index = True)\n",
        "\n",
        "  #Sort the hybrid recommendations based on weighted popularity score\n",
        "  hybrid_recommendations = hybrid_recommendations.sort_values(by = 'Popularity', ascending = False)\n",
        "\n",
        "  #Remove the input song from the recommendations\n",
        "  hybrid_recommendations = hybrid_recommendations[hybrid_recommendations['Track Name'] != input_song_name]\n",
        "\n",
        "  return hybrid_recommendations"
      ],
      "metadata": {
        "id": "1jcrpK6VJiQC"
      },
      "execution_count": 10,
      "outputs": []
    },
    {
      "cell_type": "code",
      "source": [
        "#Test the final function to generate music recommendations\n",
        "\n",
        "input_song_name = \"I'm Upset\"\n",
        "recommendations = hybrid_recommendations(input_song_name, num_recommendations=5)\n",
        "print(f\"Hybrid recommended songs for '{input_song_name}':\")\n",
        "print(recommendations)"
      ],
      "metadata": {
        "colab": {
          "base_uri": "https://localhost:8080/"
        },
        "id": "oAch1mXVVrrd",
        "outputId": "0b3052df-9d20-4804-bc60-a3e1fbd59dd5"
      },
      "execution_count": 11,
      "outputs": [
        {
          "output_type": "stream",
          "name": "stdout",
          "text": [
            "Hybrid recommended songs for 'I'm Upset':\n",
            "                        Track Name                                Artists  \\\n",
            "4               Major Distribution                       Drake, 21 Savage   \n",
            "0               Both (feat. Drake)                      Gucci Mane, Drake   \n",
            "1  Commercial (feat. Lil Uzi Vert)                 Lil Baby, Lil Uzi Vert   \n",
            "2                        Pardon Me  Lil Yachty, Future, Mike WiLL Made-It   \n",
            "3                          FOR FUN                           Lil Uzi Vert   \n",
            "\n",
            "                         Album Name Release Date  Popularity  \n",
            "4                          Her Loss   2022-11-04        74.0  \n",
            "0  The Return of East Atlanta Santa   2016-12-16        70.0  \n",
            "1                  My Turn (Deluxe)   2020-05-01        51.0  \n",
            "2                    Gaming Rap Mix   2021-01-15        22.0  \n",
            "3                    Hip Hop - Dope   2023-01-06         0.0  \n"
          ]
        },
        {
          "output_type": "stream",
          "name": "stderr",
          "text": [
            "<ipython-input-10-b3583ff7ba85>:19: FutureWarning: The frame.append method is deprecated and will be removed from pandas in a future version. Use pandas.concat instead.\n",
            "  hybrid_recommendations = hybrid_recommendations.append({\n"
          ]
        }
      ]
    }
  ]
}